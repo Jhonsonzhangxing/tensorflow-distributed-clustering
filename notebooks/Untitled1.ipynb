{
 "cells": [
  {
   "cell_type": "code",
   "execution_count": 1,
   "metadata": {},
   "outputs": [
    {
     "name": "stderr",
     "output_type": "stream",
     "text": [
      "/home/enacom/anaconda3/lib/python3.6/importlib/_bootstrap.py:205: RuntimeWarning: compiletime version 3.5 of module 'tensorflow.python.framework.fast_tensor_util' does not match runtime version 3.6\n",
      "  return f(*args, **kwds)\n"
     ]
    }
   ],
   "source": [
    "import matplotlib.pyplot as plt\n",
    "\n",
    "import threading\n",
    "\n",
    "import os\n",
    "import time\n",
    "\n",
    "import pandas as pd\n",
    "import numpy as np\n",
    "\n",
    "import tensorflow as tf\n",
    "from tensorflow.python.client import device_lib\n",
    "\n",
    "from sklearn.datasets import make_classification\n",
    "\n",
    "def get_available_gpus():\n",
    "    local_device_protos = device_lib.list_local_devices()\n",
    "    return [x.name for x in local_device_protos if x.device_type == 'GPU']"
   ]
  },
  {
   "cell_type": "code",
   "execution_count": 2,
   "metadata": {},
   "outputs": [],
   "source": [
    "n_obs = 200000000\n",
    "n_dim = 2\n",
    "K     = 3\n",
    "GPU_names = get_available_gpus()\n",
    "n_max_iters = 20\n",
    "seed = 800594\n",
    "\n",
    "with np.load('test-data.npz') as data:\n",
    "    data_X = data['X']\n",
    "    data_Y = data['Y']\n",
    "\n",
    "    \n",
    "maxsize = 2 * 1024 * 1024 * 1024\n",
    "size_of_each = data_X.shape[1] * data_X.dtype.itemsize\n",
    "\n",
    "initial_centers = data_X[0:K, :]"
   ]
  },
  {
   "cell_type": "code",
   "execution_count": 3,
   "metadata": {},
   "outputs": [],
   "source": [
    "data_placeholder = tf.placeholder(data_X.dtype, data_X.shape)\n",
    "\n",
    "dataset = tf.data.Dataset.from_tensor_slices(data_placeholder)\n",
    "dataset = dataset.batch(np.floor(maxsize / size_of_each))\n",
    "\n",
    "iterator = dataset.make_initializable_iterator()\n",
    "next_element = iterator.get_next()"
   ]
  },
  {
   "cell_type": "code",
   "execution_count": 8,
   "metadata": {
    "collapsed": true
   },
   "outputs": [],
   "source": [
    "def distributed_kmeans(batch_data):\n",
    "    return tf.Print(batch_data, [batch_data])\n",
    "    \n",
    "    "
   ]
  },
  {
   "cell_type": "code",
   "execution_count": 9,
   "metadata": {},
   "outputs": [
    {
     "name": "stdout",
     "output_type": "stream",
     "text": [
      "[[-0.75325731 -2.2329732 ]\n",
      " [ 1.23589105  1.48353633]\n",
      " [ 1.35603883  1.57902516]\n",
      " ..., \n",
      " [ 2.79987659  1.71607231]\n",
      " [-0.2171196   2.10806104]\n",
      " [-1.64602491  1.8200277 ]]\n",
      "[[ 2.23963646  2.4291951 ]\n",
      " [-0.12515257  0.10952547]\n",
      " [ 1.69907987  2.71805074]\n",
      " ..., \n",
      " [-0.88177266  1.69698769]\n",
      " [-1.9241031  -1.11692223]\n",
      " [-1.39556864 -1.6030795 ]]\n"
     ]
    }
   ],
   "source": [
    "config = tf.ConfigProto( allow_soft_placement = True )\n",
    "config.gpu_options.allow_growth = True\n",
    "config.gpu_options.allocator_type = 'BFC'\n",
    "\n",
    "with tf.Session(config = config) as sess:\n",
    "    sess.run(iterator.initializer, feed_dict={data_placeholder: data_X})\n",
    "    \n",
    "    while True:\n",
    "        try:\n",
    "            item  = sess.run(distributed_kmeans(next_element))\n",
    "            print(item)\n",
    "        except tf.errors.OutOfRangeError:\n",
    "            break"
   ]
  },
  {
   "cell_type": "code",
   "execution_count": null,
   "metadata": {
    "collapsed": true
   },
   "outputs": [],
   "source": []
  }
 ],
 "metadata": {
  "kernelspec": {
   "display_name": "Python [default]",
   "language": "python",
   "name": "python3"
  },
  "language_info": {
   "codemirror_mode": {
    "name": "ipython",
    "version": 3
   },
   "file_extension": ".py",
   "mimetype": "text/x-python",
   "name": "python",
   "nbconvert_exporter": "python",
   "pygments_lexer": "ipython3",
   "version": "3.6.1"
  }
 },
 "nbformat": 4,
 "nbformat_minor": 2
}
